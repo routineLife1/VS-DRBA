{
 "cells": [
  {
   "cell_type": "code",
   "execution_count": null,
   "outputs": [],
   "source": [
    "# %pip install -U packaging setuptools wheel -i https://pypi.tuna.tsinghua.edu.cn/simple/ --trusted-host pypi.tuna.tsinghua.edu.cn\n",
    "# %pip install --pre -U torch torchvision --index-url https://download.pytorch.org/whl/nightly/cu126 -i https://pypi.tuna.tsinghua.edu.cn/simple/ --trusted-host pypi.tuna.tsinghua.edu.cn\n",
    "# %pip install --no-deps --pre -U torch_tensorrt --index-url https://download.pytorch.org/whl/nightly/cu126 -i https://pypi.tuna.tsinghua.edu.cn/simple/ --trusted-host pypi.tuna.tsinghua.edu.cn\n",
    "# %pip install -U tensorrt-cu12 tensorrt-cu12_bindings tensorrt-cu12_libs --extra-index-url https://pypi.nvidia.com  -i https://pypi.tuna.tsinghua.edu.cn/simple/ --trusted-host pypi.tuna.tsinghua.edu.cn\n",
    "# %pip install nvidia-pyindex -i https://pypi.tuna.tsinghua.edu.cn/simple/ --trusted-host pypi.tuna.tsinghua.edu.cn\n",
    "# %pip install nvidia-tensorrt -i https://pypi.tuna.tsinghua.edu.cn/simple/ --trusted-host pypi.tuna.tsinghua.edu.cn"
   ],
   "metadata": {
    "collapsed": false
   },
   "id": "bb65c612415aee51"
  },
  {
   "cell_type": "code",
   "execution_count": null,
   "outputs": [],
   "source": [
    "%pip install -U packaging setuptools wheel\n",
    "%pip install --pre -U torch torchvision --index-url https://download.pytorch.org/whl/nightly/cu126\n",
    "%pip install --no-deps --pre -U torch_tensorrt --index-url https://download.pytorch.org/whl/nightly/cu126\n",
    "%pip install -U tensorrt-cu12 tensorrt-cu12_bindings tensorrt-cu12_libs --extra-index-url https://pypi.nvidia.com\n",
    "%pip install nvidia-pyindex\n",
    "%pip install nvidia-tensorrt"
   ],
   "metadata": {
    "collapsed": false
   },
   "id": "f74bb770-b698-44c7-91d3-eda66adaa156"
  },
  {
   "cell_type": "code",
   "execution_count": null,
   "outputs": [],
   "source": [
    "!wget https://developer.download.nvidia.com/compute/cuda/12.6.3/local_installers/cuda_12.6.3_560.35.05_linux.run\n",
    "!sh cuda_12.6.3_560.35.05_linux.run --override"
   ],
   "metadata": {
    "collapsed": false
   },
   "id": "aff8c008daca4f94"
  },
  {
   "cell_type": "code",
   "execution_count": null,
   "id": "1208be86-8a6e-414a-a820-cb05e43a1996",
   "metadata": {},
   "outputs": [],
   "source": [
    "!pip install cupy-cuda12x\n",
    "# !pip install cupy-cuda12x -i https://pypi.tuna.tsinghua.edu.cn/simple/ --trusted-host pypi.tuna.tsinghua.edu.cn"
   ]
  },
  {
   "cell_type": "code",
   "execution_count": null,
   "outputs": [],
   "source": [
    "# !pip install tensorrt-model-opt -i https://pypi.tuna.tsinghua.edu.cn/simple/ --trusted-host pypi.tuna.tsinghua.edu.cn\n",
    "# !pip install tensorrt-llm -i https://pypi.tuna.tsinghua.edu.cn/simple/ --trusted-host pypi.tuna.tsinghua.edu.cn"
   ],
   "metadata": {
    "collapsed": false
   },
   "id": "f24f8c034feb4ee4"
  },
  {
   "cell_type": "code",
   "execution_count": null,
   "outputs": [],
   "source": [
    "!pip install \"nvidia-modelopt[all]\" -U --extra-index-url https://pypi.nvidia.com"
   ],
   "metadata": {
    "collapsed": false
   },
   "id": "c40f507071421965"
  },
  {
   "cell_type": "code",
   "execution_count": null,
   "outputs": [],
   "source": [
    "# import os\n",
    "# import cupy\n",
    "# os.environ[\"CUDA_HOME\"] = \"/usr/local/cuda-12.8\"\n",
    "# os.environ[\"PATH\"] += \":/usr/local/cuda-12.8/bin\"\n",
    "# os.environ[\"LD_LIBRARY_PATH\"] = \"/usr/local/cuda-12.8/lib64\"\n",
    "# print(os.environ.get(\"CUDA_HOME\"))\n",
    "# print(os.environ.get(\"PATH\"))\n",
    "# print(os.environ.get(\"LD_LIBRARY_PATH\"))\n",
    "# print(cupy.cuda.get_cuda_path())"
   ],
   "metadata": {
    "collapsed": false
   },
   "id": "ebdef34b66c7bdaa"
  },
  {
   "cell_type": "code",
   "execution_count": null,
   "outputs": [],
   "source": [
    "!pip install -U vsrife\n",
    "#!pip install -U vsrife -i https://pypi.tuna.tsinghua.edu.cn/simple/ --trusted-host pypi.tuna.tsinghua.edu.cn"
   ],
   "metadata": {
    "collapsed": false
   },
   "id": "aa33f5210e40dc57"
  },
  {
   "cell_type": "code",
   "execution_count": null,
   "id": "f317e859-da5d-4794-8559-1eea9e7701d1",
   "metadata": {},
   "outputs": [],
   "source": [
    "!git clone https://github.com/routineLife1/VS-DRBA.git"
   ]
  },
  {
   "cell_type": "code",
   "execution_count": 2,
   "id": "2e52aac9-bb67-4825-9f52-c7561266595a",
   "metadata": {},
   "outputs": [],
   "source": [
    "%load_ext yuuno"
   ]
  },
  {
   "cell_type": "code",
   "execution_count": null,
   "id": "c251b2ba-743b-41cb-a5af-7c8a66789004",
   "metadata": {
    "scrolled": true
   },
   "outputs": [],
   "source": [
    "%%vspipe --y4m | ffmpeg -r 24000/1001*2 -y -i \"video/01.mkv\" -i - -map 0:a -map 1:v -vcodec h264 -c:a copy -crf 16 -preset fast encoded.mkv\n",
    "from vsrife import rife\n",
    "import vapoursynth as vs\n",
    "from vapoursynth import core\n",
    "clip = core.bs.VideoSource(source=\"video/01.mkv\")\n",
    "clip = core.resize.Bicubic(clip=clip, matrix_in_s=\"709\", format=vs.RGBH)\n",
    "ret = rife(clip, trt=True, factor_num=2, factor_den=1, scale=1.0)\n",
    "clip = core.resize.Bicubic(clip=ret, matrix_s=\"709\", format=vs.YUV420P16)\n",
    "clip.set_output()"
   ]
  }
 ],
 "metadata": {
  "kernelspec": {
   "display_name": "Python 3 (ipykernel)",
   "language": "python",
   "name": "python3"
  },
  "language_info": {
   "codemirror_mode": {
    "name": "ipython",
    "version": 3
   },
   "file_extension": ".py",
   "mimetype": "text/x-python",
   "name": "python",
   "nbconvert_exporter": "python",
   "pygments_lexer": "ipython3",
   "version": "3.10.13"
  }
 },
 "nbformat": 4,
 "nbformat_minor": 5
}
