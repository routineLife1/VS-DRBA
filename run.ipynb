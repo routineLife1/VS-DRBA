{
 "cells": [
  {
   "cell_type": "code",
   "execution_count": null,
   "id": "f74bb770-b698-44c7-91d3-eda66adaa156",
   "metadata": {
    "ExecuteTime": {
     "start_time": "2025-03-06T08:37:17.604470800Z"
    }
   },
   "outputs": [
    {
     "name": "stdout",
     "output_type": "stream",
     "text": [
      "^C\n",
      "Note: you may need to restart the kernel to use updated packages.\n",
      "^C\n",
      "Note: you may need to restart the kernel to use updated packages.\n",
      "^C\n",
      "Note: you may need to restart the kernel to use updated packages.\n"
     ]
    }
   ],
   "source": [
    "%pip install -U packaging setuptools wheel\n",
    "%pip install --pre -U torch torchvision --index-url https://download.pytorch.org/whl/nightly/cu126\n",
    "%pip install --no-deps --pre -U torch_tensorrt --index-url https://download.pytorch.org/whl/nightly/cu126\n",
    "%pip install -U tensorrt-cu12 tensorrt-cu12_bindings tensorrt-cu12_libs --extra-index-url https://pypi.nvidia.com\n",
    "%pip install nvidia-pyindex\n",
    "%pip install nvidia-tensorrt"
   ]
  },
  {
   "cell_type": "code",
   "execution_count": null,
   "outputs": [],
   "source": [
    "!wget https://developer.download.nvidia.com/compute/cuda/12.6.3/local_installers/cuda_12.6.3_560.35.05_linux.run\n",
    "!sh cuda_12.6.3_560.35.05_linux.run --override"
   ],
   "metadata": {
    "collapsed": false
   },
   "id": "aff8c008daca4f94"
  },
  {
   "cell_type": "code",
   "execution_count": 3,
   "id": "1208be86-8a6e-414a-a820-cb05e43a1996",
   "metadata": {},
   "outputs": [
    {
     "name": "stdout",
     "output_type": "stream",
     "text": [
      "Looking in indexes: https://pypi.org/simple, https://pypi.ngc.nvidia.com\n",
      "\u001B[33mWARNING: Retrying (Retry(total=4, connect=None, read=None, redirect=None, status=None)) after connection broken by 'NewConnectionError('<pip._vendor.urllib3.connection.HTTPSConnection object at 0x7fa38ec71420>: Failed to establish a new connection: [Errno -3] Temporary failure in name resolution')': /simple/cupy-cuda12x/\u001B[0m\u001B[33m\n",
      "Collecting cupy-cuda12x\n",
      "  Downloading cupy_cuda12x-13.4.0-cp310-cp310-manylinux2014_x86_64.whl.metadata (2.6 kB)\n",
      "Requirement already satisfied: numpy<2.3,>=1.22 in /opt/conda/lib/python3.10/site-packages (from cupy-cuda12x) (1.23.5)\n",
      "Collecting fastrlock>=0.5 (from cupy-cuda12x)\n",
      "  Downloading fastrlock-0.8.3-cp310-cp310-manylinux_2_5_x86_64.manylinux1_x86_64.manylinux_2_28_x86_64.whl.metadata (7.7 kB)\n",
      "Downloading cupy_cuda12x-13.4.0-cp310-cp310-manylinux2014_x86_64.whl (104.6 MB)\n",
      "\u001B[2K   \u001B[90m━━━━━━━━━━━━━━━━━━━━━━━━━━━━━━━━━━━━━━━━\u001B[0m \u001B[32m104.6/104.6 MB\u001B[0m \u001B[31m9.5 MB/s\u001B[0m eta \u001B[36m0:00:00\u001B[0m00:01\u001B[0mm00:01\u001B[0m\n",
      "Downloading fastrlock-0.8.3-cp310-cp310-manylinux_2_5_x86_64.manylinux1_x86_64.manylinux_2_28_x86_64.whl (53 kB)\n",
      "Installing collected packages: fastrlock, cupy-cuda12x\n",
      "Successfully installed cupy-cuda12x-13.4.0 fastrlock-0.8.3\n",
      "\u001B[33mWARNING: Running pip as the 'root' user can result in broken permissions and conflicting behaviour with the system package manager, possibly rendering your system unusable.It is recommended to use a virtual environment instead: https://pip.pypa.io/warnings/venv. Use the --root-user-action option if you know what you are doing and want to suppress this warning.\u001B[0m\u001B[33m\n",
      "\u001B[0m"
     ]
    }
   ],
   "source": [
    "!pip install cupy-cuda12x"
   ]
  },
  {
   "cell_type": "code",
   "execution_count": null,
   "outputs": [],
   "source": [
    "import os\n",
    "os.environ[\"CUDA_HOME\"] = \"/usr/local/cuda-12.8\"\n",
    "os.environ[\"PATH\"] += \":/usr/local/cuda-12.8/bin\"\n",
    "os.environ[\"LD_LIBRARY_PATH\"] = \"/usr/local/cuda-12.8/lib64\"\n",
    "print(os.environ.get(\"CUDA_HOME\"))\n",
    "print(os.environ.get(\"PATH\"))\n",
    "print(os.environ.get(\"LD_LIBRARY_PATH\"))\n",
    "\n",
    "import cupy\n",
    "print(cupy.cuda.get_cuda_path())"
   ],
   "metadata": {
    "collapsed": false
   },
   "id": "e81ed4884f84f4cc"
  },
  {
   "cell_type": "code",
   "execution_count": null,
   "outputs": [],
   "source": [
    "!pip install -U vsrife"
   ],
   "metadata": {
    "collapsed": false
   },
   "id": "aa33f5210e40dc57"
  },
  {
   "cell_type": "code",
   "execution_count": 3,
   "id": "f317e859-da5d-4794-8559-1eea9e7701d1",
   "metadata": {},
   "outputs": [
    {
     "name": "stdout",
     "output_type": "stream",
     "text": [
      "Cloning into 'vs-rife'...\n",
      "remote: Enumerating objects: 1004, done.\u001B[K\n",
      "remote: Counting objects: 100% (384/384), done.\u001B[K\n",
      "remote: Compressing objects: 100% (117/117), done.\u001B[K\n",
      "remote: Total 1004 (delta 343), reused 297 (delta 267), pack-reused 620 (from 2)\u001B[K\n",
      "Receiving objects: 100% (1004/1004), 113.27 MiB | 9.18 MiB/s, done.\n",
      "Resolving deltas: 100% (757/757), done.\n"
     ]
    }
   ],
   "source": [
    "!git clone https://github.com/routineLife1/VS-DRBA.git"
   ]
  },
  {
   "cell_type": "code",
   "execution_count": 2,
   "id": "2e52aac9-bb67-4825-9f52-c7561266595a",
   "metadata": {},
   "outputs": [],
   "source": [
    "%load_ext yuuno"
   ]
  },
  {
   "cell_type": "code",
   "execution_count": 3,
   "id": "c251b2ba-743b-41cb-a5af-7c8a66789004",
   "metadata": {
    "scrolled": true
   },
   "outputs": [
    {
     "name": "stderr",
     "output_type": "stream",
     "text": [
      "/video/vsrife/vsrife/softsplat/softsplat.py:301: FutureWarning: `torch.cuda.amp.custom_fwd(args...)` is deprecated. Please use `torch.amp.custom_fwd(args..., device_type='cuda')` instead.\n",
      "  @torch.cuda.amp.custom_fwd(cast_inputs=torch.float32)\n",
      "/video/vsrife/vsrife/softsplat/softsplat.py:382: FutureWarning: `torch.cuda.amp.custom_bwd(args...)` is deprecated. Please use `torch.amp.custom_bwd(args..., device_type='cuda')` instead.\n",
      "  def backward(self, tenOutgrad):\n",
      "Unable to import quantization op. Please install modelopt library (https://github.com/NVIDIA/TensorRT-Model-Optimizer?tab=readme-ov-file#installation) to add support for compiling quantized models\n",
      "TensorRT-LLM is not installed. Please install TensorRT-LLM or set TRTLLM_PLUGINS_PATH to the directory containing libnvinfer_plugin_tensorrt_llm.so to use converters for torch.distributed ops\n"
     ]
    },
    {
     "name": "stdout",
     "output_type": "stream",
     "text": [
      "[03/06/2025-07:57:56] [TRT] [W] Functionality provided through tensorrt.plugin module is experimental.\n"
     ]
    },
    {
     "data": {
      "application/vnd.jupyter.widget-view+json": {
       "model_id": "3f5fdaf778f147a997afd7ef243b0768",
       "version_major": 2,
       "version_minor": 0
      },
      "text/plain": [
       "EncodeWidget(commandline='ffmpeg -r 24000/1001*2.5 -y -i \"video/Hyakkano NCOP.mkv\" -i - -map 0:a -map 1:v -vco…"
      ]
     },
     "metadata": {},
     "output_type": "display_data"
    }
   ],
   "source": [
    "%%vspipe --y4m | ffmpeg -r 24000/1001*2 -y -i \"video/01.mkv\" -i - -map 0:a -map 1:v -vcodec h264 -c:a copy -crf 16 -preset ultrafast encoded.mkv\n",
    "from vsrife import rife\n",
    "import vapoursynth as vs\n",
    "from vapoursynth import core\n",
    "clip = core.bs.VideoSource(source=\"video/01.mkv\")\n",
    "clip = core.resize.Bicubic(clip=clip, matrix_in_s=\"709\", format=vs.RGBH)\n",
    "ret = rife(clip, trt=True)\n",
    "clip = core.resize.Bicubic(clip=ret, matrix_s=\"709\", format=vs.YUV420P16)\n",
    "clip.set_output()"
   ]
  }
 ],
 "metadata": {
  "kernelspec": {
   "display_name": "Python 3 (ipykernel)",
   "language": "python",
   "name": "python3"
  },
  "language_info": {
   "codemirror_mode": {
    "name": "ipython",
    "version": 3
   },
   "file_extension": ".py",
   "mimetype": "text/x-python",
   "name": "python",
   "nbconvert_exporter": "python",
   "pygments_lexer": "ipython3",
   "version": "3.10.13"
  }
 },
 "nbformat": 4,
 "nbformat_minor": 5
}
